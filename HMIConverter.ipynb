{
 "cells": [
  {
   "cell_type": "code",
   "execution_count": 1,
   "metadata": {},
   "outputs": [],
   "source": [
    "import sys"
   ]
  },
  {
   "cell_type": "code",
   "execution_count": 9,
   "metadata": {},
   "outputs": [],
   "source": [
    "class HMIConverter:\n",
    "    def __init__(self, path):\n",
    "        self.resultPath = path\n",
    "        self.filename = []\n",
    "        self.lables = []\n",
    "        \n",
    "    def loadddf(self, ddfile):\n",
    "        with open(ddfile) as f:\n",
    "            f.seek(80, 1)\n",
    "            cnt = f.read(1)\n",
    "        return\n",
    "    \n",
    "    def loaddzf(self, dzfile):\n",
    "        return\n",
    "    \n",
    "    def convertDataWithLabel(self, ddfile, dzfile):\n",
    "        return\n",
    "    \n",
    "    def convertDataWithoutLable(self, ddfile):\n",
    "        return"
   ]
  },
  {
   "cell_type": "code",
   "execution_count": 10,
   "metadata": {},
   "outputs": [],
   "source": [
    "res = \"../data/converted\"\n",
    "obj = HMIConverter(res)\n",
    "#obj.loadddf()"
   ]
  },
  {
   "cell_type": "code",
   "execution_count": null,
   "metadata": {},
   "outputs": [],
   "source": []
  }
 ],
 "metadata": {
  "kernelspec": {
   "display_name": "Python 3",
   "language": "python",
   "name": "python3"
  },
  "language_info": {
   "codemirror_mode": {
    "name": "ipython",
    "version": 3
   },
   "file_extension": ".py",
   "mimetype": "text/x-python",
   "name": "python",
   "nbconvert_exporter": "python",
   "pygments_lexer": "ipython3",
   "version": "3.6.8"
  }
 },
 "nbformat": 4,
 "nbformat_minor": 2
}
