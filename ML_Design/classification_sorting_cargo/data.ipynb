{
 "cells": [
  {
   "cell_type": "code",
   "execution_count": 1,
   "metadata": {},
   "outputs": [],
   "source": [
    "#conver data from csv to txt\n",
    "import csv\n",
    "import numpy as np\n"
   ]
  },
  {
   "cell_type": "code",
   "execution_count": 2,
   "metadata": {},
   "outputs": [
    {
     "name": "stdout",
     "output_type": "stream",
     "text": [
      "OrderedDict([('id', '1'), ('feat_1', '8'), ('feat_2', '0'), ('feat_3', '0'), ('feat_4', '0'), ('feat_5', '0'), ('feat_6', '0'), ('feat_7', '1'), ('feat_8', '1'), ('feat_9', '0'), ('feat_10', '0'), ('feat_11', '0'), ('feat_12', '0'), ('feat_13', '1'), ('feat_14', '3'), ('feat_15', '0'), ('feat_16', '1'), ('feat_17', '0'), ('feat_18', '0'), ('feat_19', '0'), ('feat_20', '0'), ('feat_21', '0'), ('feat_22', '0'), ('feat_23', '0'), ('feat_24', '0'), ('feat_25', '3'), ('feat_26', '0'), ('feat_27', '0'), ('feat_28', '0'), ('feat_29', '0'), ('feat_30', '0'), ('feat_31', '0'), ('feat_32', '0'), ('feat_33', '1'), ('feat_34', '0'), ('feat_35', '0'), ('feat_36', '2'), ('feat_37', '3'), ('feat_38', '0'), ('feat_39', '0'), ('feat_40', '2'), ('feat_41', '0'), ('feat_42', '0'), ('feat_43', '2'), ('feat_44', '0'), ('feat_45', '0'), ('feat_46', '0'), ('feat_47', '0'), ('feat_48', '1'), ('feat_49', '0'), ('feat_50', '1'), ('feat_51', '0'), ('feat_52', '0'), ('feat_53', '1'), ('feat_54', '1'), ('feat_55', '1'), ('feat_56', '0'), ('feat_57', '0'), ('feat_58', '0'), ('feat_59', '0'), ('feat_60', '0'), ('feat_61', '0'), ('feat_62', '0'), ('feat_63', '0'), ('feat_64', '1'), ('feat_65', '0'), ('feat_66', '0'), ('feat_67', '0'), ('feat_68', '0'), ('feat_69', '0'), ('feat_70', '3'), ('feat_71', '0'), ('feat_72', '0'), ('feat_73', '0'), ('feat_74', '3'), ('feat_75', '1'), ('feat_76', '0'), ('feat_77', '0'), ('feat_78', '0'), ('feat_79', '0'), ('feat_80', '0'), ('feat_81', '0'), ('feat_82', '0'), ('feat_83', '0'), ('feat_84', '0'), ('feat_85', '0'), ('feat_86', '1'), ('feat_87', '1'), ('feat_88', '1'), ('feat_89', '0'), ('feat_90', '0'), ('feat_91', '1'), ('feat_92', '0'), ('feat_93', '0'), ('target', 'Class_4')])\n"
     ]
    }
   ],
   "source": [
    "#read all data\n",
    "reader = csv.DictReader(open(\"./train.csv\"))\n",
    "cont = list(reader)\n",
    "\n",
    "print(cont[0])"
   ]
  },
  {
   "cell_type": "code",
   "execution_count": 3,
   "metadata": {},
   "outputs": [
    {
     "name": "stdout",
     "output_type": "stream",
     "text": [
      "OrderedDict([('id', '34668'), ('feat_1', '0'), ('feat_2', '0'), ('feat_3', '0'), ('feat_4', '0'), ('feat_5', '0'), ('feat_6', '0'), ('feat_7', '0'), ('feat_8', '0'), ('feat_9', '0'), ('feat_10', '0'), ('feat_11', '0'), ('feat_12', '0'), ('feat_13', '0'), ('feat_14', '1'), ('feat_15', '0'), ('feat_16', '0'), ('feat_17', '0'), ('feat_18', '0'), ('feat_19', '0'), ('feat_20', '0'), ('feat_21', '0'), ('feat_22', '0'), ('feat_23', '0'), ('feat_24', '0'), ('feat_25', '0'), ('feat_26', '0'), ('feat_27', '0'), ('feat_28', '0'), ('feat_29', '0'), ('feat_30', '0'), ('feat_31', '0'), ('feat_32', '0'), ('feat_33', '0'), ('feat_34', '0'), ('feat_35', '0'), ('feat_36', '0'), ('feat_37', '0'), ('feat_38', '3'), ('feat_39', '0'), ('feat_40', '0'), ('feat_41', '0'), ('feat_42', '0'), ('feat_43', '0'), ('feat_44', '0'), ('feat_45', '0'), ('feat_46', '1'), ('feat_47', '0'), ('feat_48', '0'), ('feat_49', '0'), ('feat_50', '0'), ('feat_51', '0'), ('feat_52', '0'), ('feat_53', '0'), ('feat_54', '5'), ('feat_55', '0'), ('feat_56', '0'), ('feat_57', '0'), ('feat_58', '0'), ('feat_59', '0'), ('feat_60', '0'), ('feat_61', '0'), ('feat_62', '0'), ('feat_63', '0'), ('feat_64', '0'), ('feat_65', '0'), ('feat_66', '0'), ('feat_67', '0'), ('feat_68', '0'), ('feat_69', '0'), ('feat_70', '3'), ('feat_71', '0'), ('feat_72', '0'), ('feat_73', '0'), ('feat_74', '0'), ('feat_75', '0'), ('feat_76', '0'), ('feat_77', '0'), ('feat_78', '0'), ('feat_79', '0'), ('feat_80', '0'), ('feat_81', '0'), ('feat_82', '0'), ('feat_83', '0'), ('feat_84', '0'), ('feat_85', '2'), ('feat_86', '0'), ('feat_87', '0'), ('feat_88', '0'), ('feat_89', '0'), ('feat_90', '0'), ('feat_91', '0'), ('feat_92', '1'), ('feat_93', '0'), ('target', 'Class_3')])\n"
     ]
    }
   ],
   "source": [
    "#shuffle data\n",
    "np.random.seed(1002)\n",
    "np.random.shuffle(cont)\n",
    "print(cont[0])\n",
    "\n",
    "#split to train set and verification set"
   ]
  },
  {
   "cell_type": "code",
   "execution_count": 6,
   "metadata": {},
   "outputs": [],
   "source": [
    "#one hot encoding\n",
    "train_data = []\n",
    "valid_data = []\n",
    "for i in range(0, len(cont)):\n",
    "    cl = cont[i][\"target\"].split('_')\n",
    "    s = \"\" + cl[1] + \" \" \n",
    "    for j in range(0, 93):\n",
    "        key = \"feat_\" + str(j + 1)\n",
    "        #val = str(j + 1) + \":\" + cont[i][key] + \" \"\n",
    "        val = cont[i][key] + \" \"\n",
    "        s += val\n",
    "    \n",
    "    train_data.append(s)"
   ]
  },
  {
   "cell_type": "code",
   "execution_count": 7,
   "metadata": {},
   "outputs": [],
   "source": [
    "#\n",
    "cont_split = (int)(len(cont) * 0.8)\n",
    "fwtrain = open(\"./train.txt\", 'w')\n",
    "fwvalid = open(\"./valid.txt\", 'w')\n",
    "for i in train_data[:cont_split]:\n",
    "    fwtrain.write(i + '\\n')\n",
    "for i in train_data[cont_split:]:\n",
    "    fwvalid.write(i + '\\n')\n",
    "\n",
    "fwtrain.close()\n",
    "fwvalid.close()"
   ]
  },
  {
   "cell_type": "code",
   "execution_count": null,
   "metadata": {},
   "outputs": [],
   "source": []
  },
  {
   "cell_type": "code",
   "execution_count": null,
   "metadata": {},
   "outputs": [],
   "source": []
  }
 ],
 "metadata": {
  "kernelspec": {
   "display_name": "Python 3",
   "language": "python",
   "name": "python3"
  },
  "language_info": {
   "codemirror_mode": {
    "name": "ipython",
    "version": 3
   },
   "file_extension": ".py",
   "mimetype": "text/x-python",
   "name": "python",
   "nbconvert_exporter": "python",
   "pygments_lexer": "ipython3",
   "version": "3.6.4"
  }
 },
 "nbformat": 4,
 "nbformat_minor": 2
}
