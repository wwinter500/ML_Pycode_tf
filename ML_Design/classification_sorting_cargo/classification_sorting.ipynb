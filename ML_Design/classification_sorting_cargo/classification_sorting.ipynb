{
 "cells": [
  {
   "cell_type": "code",
   "execution_count": 1,
   "metadata": {},
   "outputs": [],
   "source": [
    "#claissifcation sorting\n",
    "import numpy as np\n",
    "import scipy\n",
    "import xgboost as xgb\n",
    "import pickle as pk\n",
    "import math\n",
    "from sklearn.linear_model import LinearRegression"
   ]
  },
  {
   "cell_type": "code",
   "execution_count": 54,
   "metadata": {},
   "outputs": [
    {
     "name": "stdout",
     "output_type": "stream",
     "text": [
      "[2 6 3 ... 8 9 6]\n"
     ]
    }
   ],
   "source": [
    "#get the data from splitted validate / train set\n",
    "train_data = np.loadtxt(\"./train.txt\")\n",
    "valid_data = np.loadtxt(\"./valid.txt\")\n",
    "\n",
    "train_y = train_data[:, 0].astype(int)\n",
    "train_x = train_data[:, 1:94].astype(int)\n",
    "valid_y = valid_data[:, 0].astype(int)\n",
    "valid_x = valid_data[:, 1:94].astype(int)\n",
    "print(valid_y)\n",
    "xgb_train = xgb.DMatrix(train_x, label= train_y)\n",
    "xgb_valid = xgb.DMatrix(valid_x, label= valid_y)"
   ]
  },
  {
   "cell_type": "code",
   "execution_count": 55,
   "metadata": {},
   "outputs": [],
   "source": [
    "#set parameter for xgboost\n",
    "param = {}\n",
    "param['objective'] = 'multi:softmax'\n",
    "param['eta'] = 0.1\n",
    "param['max_depth'] = 6\n",
    "param['silent'] = 1\n",
    "param['nthread'] = 4\n",
    "param['num_class'] = 10"
   ]
  },
  {
   "cell_type": "code",
   "execution_count": 57,
   "metadata": {},
   "outputs": [
    {
     "name": "stdout",
     "output_type": "stream",
     "text": [
      "[0]\ttrain-merror:0.271332\n",
      "[1]\ttrain-merror:0.255246\n",
      "[2]\ttrain-merror:0.247822\n",
      "[3]\ttrain-merror:0.240423\n",
      "[4]\ttrain-merror:0.235575\n",
      "[5]\ttrain-merror:0.233277\n",
      "[6]\ttrain-merror:0.230954\n",
      "[7]\ttrain-merror:0.227999\n",
      "[8]\ttrain-merror:0.226206\n",
      "[9]\ttrain-merror:0.225424\n"
     ]
    }
   ],
   "source": [
    "watchlist = [(xgb_train, 'train')]\n",
    "num_round = 10\n",
    "boost = xgb.train(param, xgb_train, num_round, watchlist)"
   ]
  },
  {
   "cell_type": "code",
   "execution_count": 66,
   "metadata": {},
   "outputs": [
    {
     "name": "stdout",
     "output_type": "stream",
     "text": [
      "Validation error using softmax = 0.7591152408847591\n"
     ]
    }
   ],
   "source": [
    "#get prediction for accuracy\n",
    "pred = boost.predict(xgb_valid)\n",
    "accuracy = np.sum(pred == valid_y) / valid_y.shape[0]\n",
    "print('Validation accuracy using softmax = {}' .format(accuracy))"
   ]
  },
  {
   "cell_type": "code",
   "execution_count": 67,
   "metadata": {},
   "outputs": [
    {
     "name": "stdout",
     "output_type": "stream",
     "text": [
      "[0]\ttrain-merror:0.271332\n",
      "[1]\ttrain-merror:0.255246\n",
      "[2]\ttrain-merror:0.247822\n",
      "[3]\ttrain-merror:0.240423\n",
      "[4]\ttrain-merror:0.235575\n",
      "[5]\ttrain-merror:0.233277\n",
      "[6]\ttrain-merror:0.230954\n",
      "[7]\ttrain-merror:0.227999\n",
      "[8]\ttrain-merror:0.226206\n",
      "[9]\ttrain-merror:0.225424\n",
      "Validation accuracy using softprob = 0.24088475911524088 \n"
     ]
    }
   ],
   "source": [
    "#get result probabilities\n",
    "param['objective'] = 'multi:softprob'\n",
    "bst = xgb.train(param, xgb_train, num_round, watchlist)\n",
    "\n",
    "pred_prob = bst.predict(xgb_valid).reshape(valid_y.shape[0], 10)\n",
    "pred_label = np.argmax(pred_prob, axis = 1)\n",
    "accuracy = np.sum(pred_label != valid_y) / valid_y.shape[0]\n",
    "print('Validation accuracy using softprob = {} '.format(accuracy))"
   ]
  },
  {
   "cell_type": "code",
   "execution_count": 74,
   "metadata": {},
   "outputs": [
    {
     "name": "stdout",
     "output_type": "stream",
     "text": [
      "(9901, 10)\n"
     ]
    }
   ],
   "source": [
    "print(pred_prob.shape)"
   ]
  },
  {
   "cell_type": "code",
   "execution_count": 85,
   "metadata": {},
   "outputs": [
    {
     "name": "stdout",
     "output_type": "stream",
     "text": [
      "['0.0572055:1', '0.05747394:6', '0.060451668:5', '0.06096526:2', '0.061381795:8', '0.0631573:7', '0.06463116:9', '0.071801804:10', '0.13775776:4', '0.36517385:3']\n"
     ]
    }
   ],
   "source": [
    "#classification result sorting\n",
    "result = []\n",
    "for i in range(0, pred_prob.shape[0]):\n",
    "    prob_label = []\n",
    "    for j in range(0, pred_prob.shape[1]):\n",
    "        prob_label.append(str(pred_prob[i][j]) + \":\" + str(j + 1))\n",
    "    \n",
    "    prob_label.sort()\n",
    "    result.append(prob_label) \n",
    "print(result[0])"
   ]
  },
  {
   "cell_type": "code",
   "execution_count": 93,
   "metadata": {},
   "outputs": [
    {
     "name": "stdout",
     "output_type": "stream",
     "text": [
      "[306, 2568, 1259, 426, 426, 2226, 449, 1414, 827]\n",
      "9901\n"
     ]
    }
   ],
   "source": [
    "#count class_number\n",
    "validYCount = [0 for i in range(0, 9)]\n",
    "for v in valid_y:\n",
    "    validYCount[v - 1] += 1\n",
    "\n",
    "print(validYCount)\n",
    "total = np.sum(validYCount)\n",
    "#"
   ]
  },
  {
   "cell_type": "code",
   "execution_count": null,
   "metadata": {},
   "outputs": [],
   "source": []
  }
 ],
 "metadata": {
  "kernelspec": {
   "display_name": "Python 3",
   "language": "python",
   "name": "python3"
  },
  "language_info": {
   "codemirror_mode": {
    "name": "ipython",
    "version": 3
   },
   "file_extension": ".py",
   "mimetype": "text/x-python",
   "name": "python",
   "nbconvert_exporter": "python",
   "pygments_lexer": "ipython3",
   "version": "3.6.4"
  }
 },
 "nbformat": 4,
 "nbformat_minor": 2
}
