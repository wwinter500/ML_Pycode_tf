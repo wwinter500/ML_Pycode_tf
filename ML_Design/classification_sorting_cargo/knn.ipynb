{
 "cells": [
  {
   "cell_type": "code",
   "execution_count": 6,
   "metadata": {},
   "outputs": [],
   "source": [
    "import numpy as np\n",
    "import math\n",
    "\n",
    "#knn functions\n",
    "#c. normalization for data\n",
    "def normalizeData(train_set):\n",
    "    mind = train_set.min(0)\n",
    "    maxd = train_set.max(0)\n",
    "    \n",
    "    rang = maxd - mind\n",
    "    m = train_set.shape[0]\n",
    "    normDataSet = train_set - np.tile(mind, (m, 1))\n",
    "    normDataSet = normDataSet / (np.tile(rang, (m , 1)))\n",
    "                                 \n",
    "    return normDataSet, rang, mind"
   ]
  },
  {
   "cell_type": "code",
   "execution_count": null,
   "metadata": {},
   "outputs": [],
   "source": [
    "#a. define distance function\n",
    "def euclideanDistance(vec1, vec2, length):\n",
    "    res = np.sum((vec1 - vec2)**2)\n",
    "    return Math.sqrt(res)\n"
   ]
  },
  {
   "cell_type": "code",
   "execution_count": 4,
   "metadata": {},
   "outputs": [],
   "source": [
    "#b. get K neighbours\n",
    "def getKNeighbours(train_set, test_ins, k):\n",
    "    distances = []\n",
    "    neighbour = []\n",
    "    length = len(test_ins) - 1\n",
    "    for x in range(len(train_set)):\n",
    "        dis = euclideanDIstance(train_set[x], test_ins, length)\n",
    "        distances.append([train_set[x], dis])\n",
    "    \n",
    "    distances.sort(key=operator.itemgetter(1))\n",
    "    \n",
    "    for i in range(k):\n",
    "        neighbour.append(distances[i][0])\n",
    "    return neighbour"
   ]
  },
  {
   "cell_type": "code",
   "execution_count": null,
   "metadata": {},
   "outputs": [],
   "source": [
    "#c. get response\n",
    "def getLabel(neighbour):\n",
    "    classVote = {}\n",
    "    for x in range(len(neighbour)):\n",
    "        res = neighbour[x][-1]\n",
    "        if res in classVote:\n",
    "            classVote[res] += 1\n",
    "        else:\n",
    "            classVote[res] = 1\n",
    "    sortedVotes= sorted(classVote.iteriterms(), key=operator.itemgetter(), reverse=True)\n",
    "    return sortedVotes[0][0]\n",
    "\n",
    "\n",
    "#d. get accuracy\n",
    "def getAccuracy(testSet, predictions):\n",
    "    correct = 0\n",
    "    for x in range(len(testSet)):\n",
    "        if testSet[x][-1] == predictions[x]:\n",
    "            correct += 1\n",
    "    return (correct / float(len(testSet))) * 100.0\n"
   ]
  }
 ],
 "metadata": {
  "kernelspec": {
   "display_name": "Python 3",
   "language": "python",
   "name": "python3"
  },
  "language_info": {
   "codemirror_mode": {
    "name": "ipython",
    "version": 3
   },
   "file_extension": ".py",
   "mimetype": "text/x-python",
   "name": "python",
   "nbconvert_exporter": "python",
   "pygments_lexer": "ipython3",
   "version": "3.6.4"
  }
 },
 "nbformat": 4,
 "nbformat_minor": 2
}
