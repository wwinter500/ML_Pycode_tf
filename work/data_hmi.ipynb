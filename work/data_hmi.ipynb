{
 "cells": [
  {
   "cell_type": "code",
   "execution_count": 69,
   "metadata": {},
   "outputs": [],
   "source": [
    "import os.path\n",
    "import random\n",
    "import numpy as np\n",
    "import cv2\n",
    "import torch\n",
    "import torch.utils.data as data\n",
    "\n",
    "#load HMI-GL bmp\n",
    "imgPI = r\"C:\\Users\\donwu\\Documents\\github\\RDN_HMI\\RDN-Pytorch\"\n",
    "\n",
    "def GLBMP_np2Tensor(imgIn, imgTar):\n",
    "    ts = (2, 0, 1)\n",
    "    imgIn = torch.Tensor(imgIn.transpose(ts).astype(float)).mul_(1.0)\n",
    "    imgTar = torch.Tensor(imgTar.transpose(ts).astype(float)).mul_(1.0)\n",
    "    return imgIn, imgTar\n",
    "#GLBMP_np2tensor(imgI, imgT)"
   ]
  },
  {
   "cell_type": "code",
   "execution_count": 70,
   "metadata": {},
   "outputs": [],
   "source": [
    "#augment\n",
    "def augment(imgIn, imgTar):\n",
    "    if random.random() < 0.3:\n",
    "        imgIn = imgIn[:, ::-1, :]\n",
    "        imgTar = imgTar[:, ::-1, :]\n",
    "    if random.random() < 0.3:\n",
    "        imgIn = imgIn[::-1, :, :]\n",
    "        imgTar = imgTar[::-1, :, :]\n",
    "    return imgIn, imgTar\n",
    "\n",
    "#augment(imgI, imgT)"
   ]
  },
  {
   "cell_type": "code",
   "execution_count": 76,
   "metadata": {},
   "outputs": [],
   "source": [
    "def getPatch(imgIn, imgTar, scale):\n",
    "    (ih, iw, c) = imgIn.shape\n",
    "    print(imgIn.shape)\n",
    "    (th, tw) = (scale * ih, scale * iw)\n",
    "    tp = 10\n",
    "    ip = tp // scale\n",
    "    ix = random.randrange(0, iw - ip + 1)\n",
    "    iy = random.randrange(0, ih - ip + 1)\n",
    "    (tx, ty) = (scale * ix, scale * iy)\n",
    "    imgIn = imgIn[iy:iy + ip, ix:ix + ip, :]\n",
    "    imgTar = imgTar[ty:ty + tp, tx:tx + tp, :]\n",
    "    return imgIn, imgTar"
   ]
  },
  {
   "cell_type": "code",
   "execution_count": 77,
   "metadata": {},
   "outputs": [],
   "source": [
    "class HMIGLBMP():\n",
    "    def __init__(self):        \n",
    "        self.scale = 3\n",
    "        apath = r\"C:\\Users\\donwu\\Documents\\github\\RDN_HMI\\RDN-Pytorch\\data\\hmi\"\n",
    "        dirHR = 'train_gt'\n",
    "        dirLR = 'train'\n",
    "        self.dirIn = os.path.join(apath, dirLR)\n",
    "        #print(\"traindata:\" + self.dirIn)\n",
    "        self.dirTar = os.path.join(apath, dirHR)\n",
    "        self.fileList= os.listdir(self.dirIn)\n",
    "        \n",
    "        self.nTrain = len(self.fileList)\n",
    "        #print(self.nTrain)\n",
    "        \n",
    "    def __getitem__(self, idx):        \n",
    "        scale = self.scale\n",
    "        nameIn, nameTar = self.getFileName(idx)\n",
    "        imgIn = cv2.imread(nameIn)\n",
    "        imgTar = cv2.imread(nameTar)\n",
    "        imgIn, imgTar = getPatch(imgIn, imgTar,scale)\n",
    "        #print(imgIn)\n",
    "        imgIn, imgTar = augment(imgIn, imgTar)\n",
    "        return GLBMP_np2Tensor(imgIn, imgTar)\n",
    "\n",
    "    def __len__(self):\n",
    "        return self.nTrain\n",
    "        \n",
    "    def getFileName(self, idx):\n",
    "        name = self.fileList[idx]\n",
    "        nameTar = os.path.join(self.dirTar, name)\n",
    "        name = name[0:-4] + '.bmp'\n",
    "        nameIn = os.path.join(self.dirIn, name)\n",
    "        return nameIn, nameTar"
   ]
  },
  {
   "cell_type": "code",
   "execution_count": 78,
   "metadata": {},
   "outputs": [
    {
     "data": {
      "text/plain": [
       "<__main__.HMIGLBMP at 0x9f26eb8>"
      ]
     },
     "execution_count": 78,
     "metadata": {},
     "output_type": "execute_result"
    }
   ],
   "source": [
    "#args = [batchSize=16, dataDir='./data/hmi/', decayType='step', epochs=100, finetuning=False, growthRate=32, load='demo_x3_RDN', lossType='L1\\r', lr=0.0001, lrDecay=2000, model_name='RDN', nBlock=16, nChannel=3, nDenselayer=3, nFeat=64, nThreads=4, need_patch='True', patchSize=10, saveDir='.\\result', scale=3]\n",
    "HMIGLBMP()"
   ]
  },
  {
   "cell_type": "code",
   "execution_count": null,
   "metadata": {},
   "outputs": [],
   "source": []
  },
  {
   "cell_type": "code",
   "execution_count": null,
   "metadata": {},
   "outputs": [],
   "source": []
  },
  {
   "cell_type": "code",
   "execution_count": null,
   "metadata": {},
   "outputs": [],
   "source": []
  }
 ],
 "metadata": {
  "kernelspec": {
   "display_name": "Python 3",
   "language": "python",
   "name": "python3"
  },
  "language_info": {
   "codemirror_mode": {
    "name": "ipython",
    "version": 3
   },
   "file_extension": ".py",
   "mimetype": "text/x-python",
   "name": "python",
   "nbconvert_exporter": "python",
   "pygments_lexer": "ipython3",
   "version": "3.7.3"
  }
 },
 "nbformat": 4,
 "nbformat_minor": 2
}
