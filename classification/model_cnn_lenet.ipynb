{
 "cells": [
  {
   "cell_type": "code",
   "execution_count": 2,
   "metadata": {},
   "outputs": [],
   "source": [
    "import tensorflow as tf\n",
    "from tensorflow import keras"
   ]
  },
  {
   "cell_type": "code",
   "execution_count": 10,
   "metadata": {},
   "outputs": [],
   "source": [
    "#data pre-processing, take default taken-in dataset as example\n",
    "(x_train, y_train),(x_val, y_val) = keras.datasets.fashion_mnist.load_data()\n",
    "#print(x_train)\n",
    "\n",
    "def preprocess(x,y):\n",
    "    x = tf.cast(x, tf.float32) / 255.0\n",
    "    y = tf.cast(y, tf.int64)\n",
    "    return x,y \n",
    "\n",
    "def createdataset(xs, ys, nclass = 10):\n",
    "    ys = tf.one_hot(ys, depth=nclass)\n",
    "    return tf.data.Dataset.from_tensor_slices((xs, ys)) \\\n",
    "            .map(preprocess) \\\n",
    "            .shuffle(len(ys)) \\\n",
    "            .batch(128)\n",
    "\n",
    "train_data = createdataset(x_train, y_train)\n",
    "val_data = createdataset(x_val, y_val)"
   ]
  },
  {
   "cell_type": "code",
   "execution_count": 16,
   "metadata": {},
   "outputs": [],
   "source": [
    "model = keras.Sequential([\n",
    "    keras.layers.Reshape(target_shape=(28 * 28,), input_shape=(28,28)),\n",
    "    keras.layers.Dense(units=256, activation='relu')    \n",
    "])\n"
   ]
  },
  {
   "cell_type": "code",
   "execution_count": null,
   "metadata": {},
   "outputs": [],
   "source": []
  }
 ],
 "metadata": {
  "kernelspec": {
   "display_name": "Python 3",
   "language": "python",
   "name": "python3"
  },
  "language_info": {
   "codemirror_mode": {
    "name": "ipython",
    "version": 3
   },
   "file_extension": ".py",
   "mimetype": "text/x-python",
   "name": "python",
   "nbconvert_exporter": "python",
   "pygments_lexer": "ipython3",
   "version": "3.6.8"
  }
 },
 "nbformat": 4,
 "nbformat_minor": 2
}
